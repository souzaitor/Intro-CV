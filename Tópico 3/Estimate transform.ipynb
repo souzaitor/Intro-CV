{
 "cells": [
  {
   "cell_type": "markdown",
   "metadata": {},
   "source": [
    "# Estimating an affine transformation between points"
   ]
  },
  {
   "cell_type": "code",
   "execution_count": 1,
   "metadata": {},
   "outputs": [],
   "source": [
    "import numpy as np\n",
    "import matplotlib.pyplot as plt\n",
    "from numpy import cos,sin"
   ]
  },
  {
   "cell_type": "markdown",
   "metadata": {},
   "source": [
    "## Affine transformation"
   ]
  },
  {
   "cell_type": "code",
   "execution_count": 2,
   "metadata": {},
   "outputs": [
    {
     "data": {
      "text/plain": [
       "<matplotlib.legend.Legend at 0x111d1c048>"
      ]
     },
     "execution_count": 2,
     "metadata": {},
     "output_type": "execute_result"
    },
    {
     "data": {
      "image/png": "[encoded data removed]",
      "text/plain": [
       "<Figure size 432x288 with 1 Axes>"
      ]
     },
     "metadata": {},
     "output_type": "display_data"
    }
   ],
   "source": [
    "def get_affine_matrix():\n",
    "    Ta = np.array([[1.0, 1.3, 1.2],\n",
    "                   [0.5, 0.3, 2.0],\n",
    "                   [ 0.,  0., 1.]])\n",
    "    return Ta\n",
    "\n",
    "# Array containing three poins. Each point is a column of the array.\n",
    "points = np.array([[0., 2., 1.],\n",
    "                   [0., 0., 3.],\n",
    "                   [1., 1., 1.]])\n",
    "\n",
    "Ta = get_affine_matrix()\n",
    "points_a = np.dot(Ta, points)\n",
    "\n",
    "plt.subplot(111, aspect='equal')\n",
    "plt.plot(points[0], points[1], 'o')\n",
    "plt.plot(points_a[0], points_a[1], 'o')\n",
    "plt.xlim((-0.2, 6.6))\n",
    "_ = plt.ylim((-0.2, 6.6))\n",
    "plt.legend(('Original', 'Transformed'))"
   ]
  },
  {
   "cell_type": "markdown",
   "metadata": {},
   "source": [
    "## Recover the affine transformation matrix from the points"
   ]
  },
  {
   "cell_type": "code",
   "execution_count": 3,
   "metadata": {},
   "outputs": [
    {
     "name": "stdout",
     "output_type": "stream",
     "text": [
      "Estimated affine transformation: \n",
      "[[1.  1.3 1.2]\n",
      " [0.5 0.3 2. ]\n",
      " [0.  0.  1. ]]\n"
     ]
    },
    {
     "data": {
      "text/plain": [
       "<matplotlib.legend.Legend at 0x112010a90>"
      ]
     },
     "execution_count": 3,
     "metadata": {},
     "output_type": "execute_result"
    },
    {
     "data": {
      "image/png": "[encoded data removed]",
      "text/plain": [
       "<Figure size 432x288 with 1 Axes>"
      ]
     },
     "metadata": {},
     "output_type": "display_data"
    }
   ],
   "source": [
    "def get_pseudoinverse(points_x, points_y):\n",
    "    \n",
    "    mat_p = np.linalg.inv(np.dot(points_x, points_x.T))\n",
    "    pseudoinverse_mat = np.dot(np.dot(points_y, points_x.T), mat_p)\n",
    "    \n",
    "    return pseudoinverse_mat\n",
    "\n",
    "Ta_est = get_pseudoinverse(points, points_a)\n",
    "print(\"Estimated affine transformation: \\n{}\".format(np.round(Ta_est, 2)))\n",
    "\n",
    "# Apply the transformation\n",
    "points_a_est = np.dot(Ta_est, points)\n",
    "\n",
    "plt.subplot(111, aspect='equal')\n",
    "plt.plot(points[0], points[1], 'o')                # Original points\n",
    "plt.plot(points_a[0], points_a[1], 'o', ms=10)     # Points transformed using the given transformation matrix\n",
    "plt.plot(points_a_est[0], points_a_est[1], 'o')    # Points transformed using the estimated transformation matrix\n",
    "plt.xlim((-0.2, 6.6))\n",
    "_ = plt.ylim((-0.2, 6.6))\n",
    "plt.legend(('Original', 'Transformed','Estimated'))"
   ]
  },
  {
   "cell_type": "markdown",
   "metadata": {},
   "source": [
    "## Estimating the affine transformation from 4 points"
   ]
  },
  {
   "cell_type": "markdown",
   "metadata": {},
   "source": [
    "We will estimate the affine transformation that maps from a set of 4 points to another set of 4 points. If the 4 points are related by an affine transformation, the estimated matrix will be exact. Otherwise, the estimated transformation will be the best in the least squares sense."
   ]
  },
  {
   "cell_type": "code",
   "execution_count": 4,
   "metadata": {},
   "outputs": [
    {
     "data": {
      "text/plain": [
       "<matplotlib.legend.Legend at 0x11208a080>"
      ]
     },
     "execution_count": 4,
     "metadata": {},
     "output_type": "execute_result"
    },
    {
     "data": {
      "image/png": "[encoded data removed]",
      "text/plain": [
       "<Figure size 864x432 with 1 Axes>"
      ]
     },
     "metadata": {},
     "output_type": "display_data"
    }
   ],
   "source": [
    "points1 = np.array([[0., 2., 1., 1.],\n",
    "                    [0., 0., 2.5, 0.2],\n",
    "                    [1., 1., 1., 1.]])\n",
    "points2 = np.array([[1.2, 3.2, 5.5, 2.2],\n",
    "                    [2. , 3. , 3.4, 2.5],\n",
    "                    [1. , 1. , 1. , 1. ]])\n",
    "\n",
    "plt.figure(figsize=[12,6])\n",
    "plt.subplot(111, aspect='equal')\n",
    "plt.plot(points1[0], points1[1], 'o')\n",
    "plt.plot(points2[0], points2[1], 'o')\n",
    "plt.xlim((-0.2, 6.6))\n",
    "plt.ylim((-0.2, 6.6))\n",
    "plt.legend(('points1', 'points2'))"
   ]
  },
  {
   "cell_type": "code",
   "execution_count": 5,
   "metadata": {},
   "outputs": [
    {
     "name": "stdout",
     "output_type": "stream",
     "text": [
      "Estimated transformation: \n",
      "[[1.    1.348 1.115]\n",
      " [0.5   0.368 1.977]\n",
      " [0.    0.    1.   ]]\n"
     ]
    },
    {
     "data": {
      "image/png": "[encoded data removed]",
      "text/plain": [
       "<Figure size 864x432 with 1 Axes>"
      ]
     },
     "metadata": {},
     "output_type": "display_data"
    }
   ],
   "source": [
    "Ta_est = get_pseudoinverse(points1, points2)\n",
    "points_est = np.dot(Ta_est, points1)\n",
    "\n",
    "plt.figure(figsize=[12,6])\n",
    "plt.subplot(111, aspect='equal')\n",
    "plt.plot(points1[0], points1[1], 'o')\n",
    "plt.plot(points2[0], points2[1], 'o')\n",
    "plt.plot(points_est[0], points_est[1], 'o')\n",
    "plt.xlim((-0.2, 6.6))\n",
    "plt.ylim((-0.2, 6.6))\n",
    "plt.legend(('points1', 'points2', 'Estimated transformation'))\n",
    "print(\"Estimated transformation: \\n{}\".format(np.round(Ta_est, 3)))"
   ]
  },
  {
   "cell_type": "code",
   "execution_count": null,
   "metadata": {
    "collapsed": true
   },
   "outputs": [],
   "source": []
  }
 ],
 "metadata": {
  "kernelspec": {
   "display_name": "Python 3",
   "language": "python",
   "name": "python3"
  },
  "language_info": {
   "codemirror_mode": {
    "name": "ipython",
    "version": 3
   },
   "file_extension": ".py",
   "mimetype": "text/x-python",
   "name": "python",
   "nbconvert_exporter": "python",
   "pygments_lexer": "ipython3",
   "version": "3.7.3"
  }
 },
 "nbformat": 4,
 "nbformat_minor": 2
}
